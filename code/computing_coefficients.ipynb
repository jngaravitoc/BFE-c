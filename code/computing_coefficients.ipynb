{
 "cells": [
  {
   "cell_type": "markdown",
   "metadata": {},
   "source": [
    "# to-do\n",
    "1. Check behaviour of phi_nl and sph_harm_lm\n",
    "2. Check scale of sph_harm at higher terms.\n",
    "3. Is the potential affected by this high order terms?\n",
    "4. Check that the derivation of A_nl is correct.\n",
    "5. Check the behaviour of the energy term\n",
    "6. Check the effect of not choosing the right scale length"
   ]
  },
  {
   "cell_type": "code",
   "execution_count": null,
   "metadata": {},
   "outputs": [],
   "source": []
  },
  {
   "cell_type": "code",
   "execution_count": null,
   "metadata": {},
   "outputs": [],
   "source": []
  },
  {
   "cell_type": "code",
   "execution_count": 1,
   "metadata": {},
   "outputs": [
    {
     "name": "stdout",
     "output_type": "stream",
     "text": [
      "Populating the interactive namespace from numpy and matplotlib\n"
     ]
    }
   ],
   "source": [
    "%pylab inline\n",
    "from scipy import special\n",
    "#plt.style.use('dark_background')\n",
    "import biff\n",
    "import pygadgetreader"
   ]
  },
  {
   "cell_type": "code",
   "execution_count": 2,
   "metadata": {},
   "outputs": [],
   "source": [
    "font = {'size':18, 'family':'serif'}\n",
    "matplotlib.rc('font', **font)"
   ]
  },
  {
   "cell_type": "code",
   "execution_count": 3,
   "metadata": {},
   "outputs": [],
   "source": [
    "def xi_transformation(r):\n",
    "    return (r-1)/(r+1)\n",
    "\n",
    "def Anl(n, l):\n",
    "    knl = 0.5*n*(n+4*l+3) + (l+1)*(2*l+1)\n",
    "    A_nl = - 2**(8*l+6)/(4*np.pi*knl) * (special.factorial(n)*(n+2*l+3/2.)*(special.gamma(2*l+3/2.))**2)/(special.gamma(n+4*l+3))\n",
    "    return A_nl\n",
    "\n",
    "def phi_nl(n, l, r):\n",
    "    xi = xi_transformation(r)\n",
    "    return - special.eval_gegenbauer(n, 2*l + 3/2., xi)* (4*np.pi)**(0.5)*r**l / ((1+r)**(2*l+1))  "
   ]
  },
  {
   "cell_type": "code",
   "execution_count": 4,
   "metadata": {},
   "outputs": [],
   "source": [
    "def snl(n, l, m, m_p, r_p, theta_p, phi_p):\n",
    "    A_nl = Anl(n,l)\n",
    "    if m==0:\n",
    "        S_nl = A_nl * np.sum(m_p*phi_nl(n, l, r_p)*special.sph_harm(m, l, 0, theta_p)*np.cos(m*phi_p))\n",
    "        print(np.sum(phi_nl(n, l, r_p)), np.sum(special.sph_harm(m, l, 0, theta_p)), A_nl)\n",
    "    if m!=0:\n",
    "        S_nl = 2*A_nl * np.sum(m_p*phi_nl(n, l, r_p)*special.sph_harm(m, l, 0, theta_p)*np.cos(m*phi_p))\n",
    "    return S_nl.real, np.sum(phi_nl(n, l, r_p)), np.sum(special.sph_harm(m, l, 0, theta_p))"
   ]
  },
  {
   "cell_type": "code",
   "execution_count": 5,
   "metadata": {},
   "outputs": [
    {
     "name": "stderr",
     "output_type": "stream",
     "text": [
      "/home/xzk/.local/lib/python3.5/site-packages/ipykernel_launcher.py:4: ComplexWarning: Casting complex values to real discards the imaginary part\n",
      "  after removing the cwd from sys.path.\n"
     ]
    }
   ],
   "source": [
    "theta_t = np.linspace(0, np.pi, 100)\n",
    "sph_harm_matrix = np.zeros((20, 100))\n",
    "for l in range(0, 20):\n",
    "    sph_harm_matrix[l] = special.sph_harm(0, l, 0, theta_t)"
   ]
  },
  {
   "cell_type": "code",
   "execution_count": 37,
   "metadata": {},
   "outputs": [
    {
     "data": {
      "image/png": "[encoded data removed]",
      "text/plain": [
       "<matplotlib.figure.Figure at 0x7f598289e1d0>"
      ]
     },
     "metadata": {},
     "output_type": "display_data"
    }
   ],
   "source": [
    "figure(figsize=(10, 5))\n",
    "title(r'$Y_{l0}(\\theta),\\ n=0$')\n",
    "imshow(sph_harm_matrix, origin='lower', extent=[0, 180, 0, 20], cmap='viridis')\n",
    "colorbar(orientation='horizontal')\n",
    "ylabel('$l$')\n",
    "xlabel(r'$\\theta$')\n",
    "\n",
    "savefig('spherical_harmonics_theta_dependence.png', bbox_inches='tight')\n",
    "savefig('spherical_harmonics_theta_dependence.pdf', bbox_inches='tight')"
   ]
  },
  {
   "cell_type": "code",
   "execution_count": 26,
   "metadata": {},
   "outputs": [],
   "source": [
    "r_t = np.logspace(0, 2, 100)\n",
    "phi_nl_matrix = np.zeros((20, 100))\n",
    "for l in range(0, 20):\n",
    "    phi_nl_matrix[l] = phi_nl(0, l, r_t)"
   ]
  },
  {
   "cell_type": "code",
   "execution_count": 36,
   "metadata": {},
   "outputs": [
    {
     "data": {
      "image/png": "[encoded data removed]",
      "text/plain": [
       "<matplotlib.figure.Figure at 0x7f5982c5e8d0>"
      ]
     },
     "metadata": {},
     "output_type": "display_data"
    }
   ],
   "source": [
    "figure(figsize=(10, 5))\n",
    "title(r'$\\Phi_{0l}(r)$')\n",
    "imshow(np.log10(np.abs(phi_nl_matrix)), origin='lower', extent=[0, 100, 0, 20], cmap='viridis')\n",
    "cbar = colorbar(orientation='horizontal')\n",
    "ylabel('$l$')\n",
    "xlabel('$r$[kpc]')\n",
    "cbar.set_label(r'$\\rm{Log}(|\\Phi_{0l}|)$')\n",
    "\n",
    "savefig('phi_nl_radial_depndence.pdf', bbox_inches='tight')"
   ]
  },
  {
   "cell_type": "code",
   "execution_count": 38,
   "metadata": {},
   "outputs": [
    {
     "data": {
      "text/plain": [
       "array([ -1.77245385e+00,  -4.43113463e-01,  -1.10778366e-01,\n",
       "        -2.76945914e-02,  -6.92364786e-03,  -1.73091196e-03,\n",
       "        -4.32727991e-04,  -1.08181998e-04,  -2.70454994e-05,\n",
       "        -6.76137486e-06,  -1.69034371e-06,  -4.22585929e-07,\n",
       "        -1.05646482e-07,  -2.64116205e-08,  -6.60290514e-09,\n",
       "        -1.65072628e-09,  -4.12681571e-10,  -1.03170393e-10,\n",
       "        -2.57925982e-11,  -6.44814955e-12])"
      ]
     },
     "execution_count": 38,
     "metadata": {},
     "output_type": "execute_result"
    }
   ],
   "source": [
    "# Que pasa con esta linea? \n",
    "phi_nl_matrix[:,0]"
   ]
  },
  {
   "cell_type": "code",
   "execution_count": 39,
   "metadata": {},
   "outputs": [],
   "source": [
    "product_matrix = np.zeros((20, 100))\n",
    "for l in range(0, 20):\n",
    "    product_matrix[l] = phi_nl(0, l, r_t) * special.sph_harm(0, l, 0, theta_t).real"
   ]
  },
  {
   "cell_type": "code",
   "execution_count": 44,
   "metadata": {},
   "outputs": [
    {
     "data": {
      "image/png": "[encoded data removed]",
      "text/plain": [
       "<matplotlib.figure.Figure at 0x7f5982755940>"
      ]
     },
     "metadata": {},
     "output_type": "display_data"
    }
   ],
   "source": [
    "figure(figsize=(10, 5))\n",
    "imshow(np.log10(np.abs(product_matrix)), origin='lower', extent=[0, 100, 0, 20], cmap='viridis')\n",
    "cbar = colorbar(orientation='horizontal')\n",
    "ylabel('$l$')\n",
    "xlabel(r'$\\vec{r}$')\n",
    "cbar.set_label(r'$\\rm{Log}(|\\Phi_{0l}|) Y_{l,0}(\\theta)$')"
   ]
  },
  {
   "cell_type": "code",
   "execution_count": 55,
   "metadata": {},
   "outputs": [
    {
     "data": {
      "image/png": "[encoded data removed]",
      "text/plain": [
       "<matplotlib.figure.Figure at 0x7f5981cdc320>"
      ]
     },
     "metadata": {},
     "output_type": "display_data"
    }
   ],
   "source": [
    "for i in range(20):\n",
    "    scatter(i, np.log10(np.abs(np.sum(product_matrix[i]))), c='k')\n",
    "xlabel('$l$')\n",
    "ylabel(r'$\\sum_{\\vec{r}} \\mathrm{Log}(|\\Phi_{0l}(r)|) Y_{l,0}(\\theta)$')\n",
    "\n",
    "savefig('sum_prodcut_matrix_l.pdf', bbox_inches='tight')"
   ]
  },
  {
   "cell_type": "code",
   "execution_count": 47,
   "metadata": {},
   "outputs": [],
   "source": [
    "# data:\n",
    "#spherical_halo = pygadgetreader.readsnap('../../IC_hernquist_nico/test/lmc3e10', 'pos', )\n",
    "#spherical_halo = pygadgetreader.readsnap('../data/LMC1_97K_vir_000', 'pos', 'dm')\n",
    "\n",
    "#m = pygadgetreader.readsnap('../data/LMC3_2M_vir_009', 'mass', 'dm')"
   ]
  },
  {
   "cell_type": "code",
   "execution_count": 56,
   "metadata": {},
   "outputs": [],
   "source": [
    "spherical_halo = genfromtxt('../../chamaleon/halos_ics/test_hern.txt')"
   ]
  },
  {
   "cell_type": "code",
   "execution_count": 57,
   "metadata": {},
   "outputs": [],
   "source": [
    "x = spherical_halo[:,0]\n",
    "y = spherical_halo[:,1]\n",
    "z = spherical_halo[:,2]\n",
    "m = spherical_halo[:,0]"
   ]
  },
  {
   "cell_type": "code",
   "execution_count": 58,
   "metadata": {},
   "outputs": [
    {
     "name": "stderr",
     "output_type": "stream",
     "text": [
      "/home/xzk/.local/lib/python3.5/site-packages/ipykernel_launcher.py:2: RuntimeWarning: invalid value encountered in true_divide\n",
      "  \n"
     ]
    }
   ],
   "source": [
    "r = (x**2 + y**2 + z**2)**0.5\n",
    "theta = np.arccos(z/r)\n",
    "phi = np.arctan2(y, x)\n"
   ]
  },
  {
   "cell_type": "code",
   "execution_count": 59,
   "metadata": {},
   "outputs": [
    {
     "name": "stdout",
     "output_type": "stream",
     "text": [
      "1739.26073495 (nan+nan*j) -0.00133734438908\n"
     ]
    },
    {
     "data": {
      "text/plain": [
       "(nan, 1739.260734948369, (nan+nan*j))"
      ]
     },
     "execution_count": 59,
     "metadata": {},
     "output_type": "execute_result"
    }
   ],
   "source": [
    "snl(15, 10, 0, m, r, theta, phi)"
   ]
  },
  {
   "cell_type": "code",
   "execution_count": 60,
   "metadata": {},
   "outputs": [
    {
     "name": "stdout",
     "output_type": "stream",
     "text": [
      "-14811.8517551 (2820.94791774+0j) -3.0\n"
     ]
    },
    {
     "data": {
      "text/plain": [
       "(-201.5267576313837, -14811.851755082687, (2820.9479177387821+0j))"
      ]
     },
     "execution_count": 60,
     "metadata": {},
     "output_type": "execute_result"
    }
   ],
   "source": [
    "snl(0, 0, 0, m, r, theta, phi)"
   ]
  },
  {
   "cell_type": "code",
   "execution_count": 61,
   "metadata": {},
   "outputs": [
    {
     "name": "stdout",
     "output_type": "stream",
     "text": [
      "-7.11117112365e-10 (nan+nan*j) -2.04745181245e+22\n"
     ]
    },
    {
     "data": {
      "text/plain": [
       "(nan, -7.1111711236521653e-10, (nan+nan*j))"
      ]
     },
     "execution_count": 61,
     "metadata": {},
     "output_type": "execute_result"
    }
   ],
   "source": [
    "snl(0, 20, 0, m, r, theta, phi)"
   ]
  },
  {
   "cell_type": "code",
   "execution_count": 66,
   "metadata": {},
   "outputs": [],
   "source": [
    "S_biff, T_biff = biff.compute_coeffs_discrete(np.double(spherical_halo), np.double(m), 10, 10, skip_m=False, r_s=10.4)"
   ]
  },
  {
   "cell_type": "code",
   "execution_count": 67,
   "metadata": {},
   "outputs": [
    {
     "data": {
      "text/plain": [
       "(11, 11, 11)"
      ]
     },
     "execution_count": 67,
     "metadata": {},
     "output_type": "execute_result"
    }
   ],
   "source": [
    "shape(S_biff)"
   ]
  },
  {
   "cell_type": "code",
   "execution_count": 70,
   "metadata": {},
   "outputs": [
    {
     "name": "stderr",
     "output_type": "stream",
     "text": [
      "/home/xzk/.local/lib/python3.5/site-packages/ipykernel_launcher.py:1: RuntimeWarning: invalid value encountered in log10\n",
      "  \"\"\"Entry point for launching an IPython kernel.\n"
     ]
    },
    {
     "data": {
      "text/plain": [
       "Text(0,0.5,'$l$')"
      ]
     },
     "execution_count": 70,
     "metadata": {},
     "output_type": "execute_result"
    },
    {
     "data": {
      "image/png": "[encoded data removed]",
      "text/plain": [
       "<matplotlib.figure.Figure at 0x7f59824e3f28>"
      ]
     },
     "metadata": {},
     "output_type": "display_data"
    }
   ],
   "source": [
    "imshow(np.log10(S_biff[:,:,0] + T_biff[:,:,0]).T, origin='lower')\n",
    "colorbar()\n",
    "xlabel('$n$')\n",
    "ylabel('$l$')"
   ]
  },
  {
   "cell_type": "code",
   "execution_count": 14,
   "metadata": {},
   "outputs": [
    {
     "name": "stdout",
     "output_type": "stream",
     "text": [
      "-6.79214484952e-10 (231.601515197+0j) -2.04745181245e+22\n"
     ]
    },
    {
     "data": {
      "text/plain": [
       "-27621229138.56369"
      ]
     },
     "execution_count": 14,
     "metadata": {},
     "output_type": "execute_result"
    }
   ],
   "source": [
    "snl(0, 20, 0, m, r, theta, phi)"
   ]
  },
  {
   "cell_type": "code",
   "execution_count": 15,
   "metadata": {},
   "outputs": [
    {
     "data": {
      "text/plain": [
       "-27621229138.563644"
      ]
     },
     "execution_count": 15,
     "metadata": {},
     "output_type": "execute_result"
    }
   ],
   "source": [
    "S_biff[0, 20, 0]"
   ]
  },
  {
   "cell_type": "code",
   "execution_count": 16,
   "metadata": {},
   "outputs": [
    {
     "data": {
      "text/plain": [
       "array([ 1454.30005687,   637.29460382,   319.70192035,   159.56661384,\n",
       "          69.75398434,    16.44550399,   -14.67859021,   -31.00075525,\n",
       "         -37.84310433,   -39.34739363,   -38.02611498,   -35.03273456,\n",
       "         -31.24275278,   -27.62161573,   -24.76135415,   -22.69757351])"
      ]
     },
     "execution_count": 16,
     "metadata": {},
     "output_type": "execute_result"
    }
   ],
   "source": [
    "S_biff[:,0,0]"
   ]
  },
  {
   "cell_type": "code",
   "execution_count": 23,
   "metadata": {},
   "outputs": [
    {
     "data": {
      "text/plain": [
       "Text(0.5,0,'$n$')"
      ]
     },
     "execution_count": 23,
     "metadata": {},
     "output_type": "execute_result"
    },
    {
     "data": {
      "image/png": "[encoded data removed]",
      "text/plain": [
       "<matplotlib.figure.Figure at 0x7f76c2c73be0>"
      ]
     },
     "metadata": {},
     "output_type": "display_data"
    }
   ],
   "source": [
    "plot(np.arange(0, 16, 1), (S_biff[:,0,0]), '-o', c='C1' )\n",
    "ylabel('$S_{nlm}$')\n",
    "xlabel('$n$')"
   ]
  },
  {
   "cell_type": "code",
   "execution_count": 24,
   "metadata": {},
   "outputs": [
    {
     "data": {
      "text/plain": [
       "Text(0.5,0,'$l$')"
      ]
     },
     "execution_count": 24,
     "metadata": {},
     "output_type": "execute_result"
    },
    {
     "data": {
      "image/png": "[encoded data removed]",
      "text/plain": [
       "<matplotlib.figure.Figure at 0x7f76c2cb5b00>"
      ]
     },
     "metadata": {},
     "output_type": "display_data"
    }
   ],
   "source": [
    "plot(np.arange(0, 21, 1), np.log10(np.abs(S_biff[0,:,0])), '-o', c='C1' )\n",
    "ylabel('$S_{nlm}$')\n",
    "xlabel('$l$')"
   ]
  },
  {
   "cell_type": "code",
   "execution_count": 19,
   "metadata": {},
   "outputs": [],
   "source": [
    "A_nl_t = np.zeros(20)\n",
    "for i in range(0, 20):\n",
    "    A_nl_t[i] = Anl(0, i)"
   ]
  },
  {
   "cell_type": "code",
   "execution_count": 74,
   "metadata": {},
   "outputs": [
    {
     "data": {
      "text/plain": [
       "Text(0.5,0,'$l$')"
      ]
     },
     "execution_count": 74,
     "metadata": {},
     "output_type": "execute_result"
    },
    {
     "data": {
      "image/png": "[encoded data removed]",
      "text/plain": [
       "<matplotlib.figure.Figure at 0x7f76c1a0a7f0>"
      ]
     },
     "metadata": {},
     "output_type": "display_data"
    }
   ],
   "source": [
    "plot(np.arange(0, 20, 1), np.log10(np.abs(A_nl_t)), '-o')\n",
    "ylabel(r'$\\rm{Log}(A_{0l})$')\n",
    "xlabel('$l$')"
   ]
  },
  {
   "cell_type": "code",
   "execution_count": 272,
   "metadata": {},
   "outputs": [],
   "source": [
    "pot = biff.potential(np.ascontiguousarray(np.array([np.arange(0, 100, 1), np.zeros(100), np.zeros(100)]).T), S_biff, T_biff, G=1, M=1, r_s=10.4)"
   ]
  },
  {
   "cell_type": "code",
   "execution_count": 273,
   "metadata": {},
   "outputs": [],
   "source": [
    "dens = biff.density(np.ascontiguousarray(np.array([np.arange(0, 100, 1), np.zeros(100), np.zeros(100)]).T), S_biff, T_biff, M=1, r_s=10.4)"
   ]
  },
  {
   "cell_type": "code",
   "execution_count": 274,
   "metadata": {},
   "outputs": [
    {
     "data": {
      "text/plain": [
       "[<matplotlib.lines.Line2D at 0x7f76be8f4358>]"
      ]
     },
     "execution_count": 274,
     "metadata": {},
     "output_type": "execute_result"
    },
    {
     "data": {
      "image/png": "[encoded data removed]",
      "text/plain": [
       "<matplotlib.figure.Figure at 0x7f76be92d550>"
      ]
     },
     "metadata": {},
     "output_type": "display_data"
    }
   ],
   "source": [
    "figure(figsize(10, 5))\n",
    "subplot(1, 2, 1)\n",
    "plot(np.arange(0, 100, 1), np.log10(np.abs(pot)))\n",
    "\n",
    "subplot(1, 2, 2)\n",
    "plot(np.arange(0, 100, 1), np.log10(np.abs(dens)))"
   ]
  },
  {
   "cell_type": "markdown",
   "metadata": {},
   "source": [
    "## The contribution of the coefficients to the density and potential.\n",
    "\n",
    "- What is the value of the potential as a function of $n$ and $l$? "
   ]
  },
  {
   "cell_type": "code",
   "execution_count": null,
   "metadata": {},
   "outputs": [],
   "source": [
    "def potential(S, T, n, l, m):\n",
    "    for i in n:\n",
    "        for j in range l:\n",
    "    pot_nlm = special.sph_harm(m, l, 0, theta_p)*phi_nl(n, l, r)*(S*cos(m*phi_p) + T*sin(m*phi_p))\n",
    "    return pot_nlm\n"
   ]
  }
 ],
 "metadata": {
  "kernelspec": {
   "display_name": "Python 3",
   "language": "python",
   "name": "python3"
  },
  "language_info": {
   "codemirror_mode": {
    "name": "ipython",
    "version": 3
   },
   "file_extension": ".py",
   "mimetype": "text/x-python",
   "name": "python",
   "nbconvert_exporter": "python",
   "pygments_lexer": "ipython3",
   "version": "3.5.2"
  }
 },
 "nbformat": 4,
 "nbformat_minor": 2
}
